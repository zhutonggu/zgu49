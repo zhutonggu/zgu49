{
 "cells": [
  {
   "cell_type": "code",
   "execution_count": 5,
   "metadata": {
    "collapsed": true
   },
   "outputs": [],
   "source": [
    "%run jemdoc.py index.jemdoc"
   ]
  },
  {
   "cell_type": "code",
   "execution_count": 6,
   "metadata": {
    "collapsed": true
   },
   "outputs": [],
   "source": [
    "%run jemdoc.py research.jemdoc"
   ]
  },
  {
   "cell_type": "code",
   "execution_count": 7,
   "metadata": {
    "collapsed": true
   },
   "outputs": [],
   "source": [
    "%run jemdoc.py teaching.jemdoc"
   ]
  },
  {
   "cell_type": "code",
   "execution_count": 4,
   "metadata": {},
   "outputs": [
    {
     "name": "stdout",
     "output_type": "stream",
     "text": [
      "Usage: jemdoc [OPTIONS] [SOURCEFILE] \n",
      "  Produces html markup from a jemdoc SOURCEFILE.\n",
      "\n",
      "  Most of the time you can use jemdoc without any additional flags.\n",
      "  For example, typing\n",
      "\n",
      "jemdoc index\n",
      "\n",
      "  will produce an index.html from index.jemdoc, using a default\n",
      "  configuration.\n",
      "\n",
      "  Some configuration options can be overridden by specifying a\n",
      "  configuration file.  You can use\n",
      "\n",
      "jemdoc --show-config\n",
      "\n",
      "  to print a sample configuration file (which includes all of the\n",
      "  default options). Any or all of the configuration [blocks] can be\n",
      "  overwritten by including them in a configuration file, and running,\n",
      "  for example,\n",
      "\n",
      "jemdoc -c mywebsite.conf index.jemdoc \n",
      "\n",
      "  You can view version and installation details with\n",
      "\n",
      "jemdoc --version\n",
      "\n",
      "  See http://jemdoc.jaboc.net/ for many more details.\n"
     ]
    }
   ],
   "source": [
    "%run jemdoc.py"
   ]
  },
  {
   "cell_type": "code",
   "execution_count": 1,
   "metadata": {
    "collapsed": true
   },
   "outputs": [],
   "source": [
    "%run jemdoc.py research.jemdoc"
   ]
  },
  {
   "cell_type": "code",
   "execution_count": null,
   "metadata": {
    "collapsed": true
   },
   "outputs": [],
   "source": []
  }
 ],
 "metadata": {
  "kernelspec": {
   "display_name": "Python 2",
   "language": "python",
   "name": "python2"
  },
  "language_info": {
   "codemirror_mode": {
    "name": "ipython",
    "version": 2
   },
   "file_extension": ".py",
   "mimetype": "text/x-python",
   "name": "python",
   "nbconvert_exporter": "python",
   "pygments_lexer": "ipython2",
   "version": "2.7.14"
  }
 },
 "nbformat": 4,
 "nbformat_minor": 2
}
