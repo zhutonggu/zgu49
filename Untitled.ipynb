{
 "cells": [
  {
   "cell_type": "code",
   "execution_count": 1,
   "metadata": {},
   "outputs": [
    {
     "name": "stdout",
     "output_type": "stream",
     "text": [
      "Usage: jemdoc [OPTIONS] [SOURCEFILE] \n",
      "  Produces html markup from a jemdoc SOURCEFILE.\n",
      "\n",
      "  Most of the time you can use jemdoc without any additional flags.\n",
      "  For example, typing\n",
      "\n",
      "jemdoc index\n",
      "\n",
      "  will produce an index.html from index.jemdoc, using a default\n",
      "  configuration.\n",
      "\n",
      "  Some configuration options can be overridden by specifying a\n",
      "  configuration file.  You can use\n",
      "\n",
      "jemdoc --show-config\n",
      "\n",
      "  to print a sample configuration file (which includes all of the\n",
      "  default options). Any or all of the configuration [blocks] can be\n",
      "  overwritten by including them in a configuration file, and running,\n",
      "  for example,\n",
      "\n",
      "jemdoc -c mywebsite.conf index.jemdoc \n",
      "\n",
      "  You can view version and installation details with\n",
      "\n",
      "jemdoc --version\n",
      "\n",
      "  See http://jemdoc.jaboc.net/ for many more details.\n"
     ]
    }
   ],
   "source": [
    "%run jemdoc.py"
   ]
  },
  {
   "cell_type": "code",
   "execution_count": 2,
   "metadata": {},
   "outputs": [
    {
     "ename": "SyntaxError",
     "evalue": "Missing parentheses in call to 'print'. Did you mean print(t __doc__)? (jemdoc.py, line 34)",
     "output_type": "error",
     "traceback": [
      "\u001b[0;36m  File \u001b[0;32m\"/Users/koo/AnacondaProjects/Archive/jemdoc.py\"\u001b[0;36m, line \u001b[0;32m34\u001b[0m\n\u001b[0;31m    print __doc__\u001b[0m\n\u001b[0m                ^\u001b[0m\n\u001b[0;31mSyntaxError\u001b[0m\u001b[0;31m:\u001b[0m Missing parentheses in call to 'print'. Did you mean print(t __doc__)?\n"
     ]
    }
   ],
   "source": [
    "%run jemdoc.py index"
   ]
  },
  {
   "cell_type": "code",
   "execution_count": 3,
   "metadata": {},
   "outputs": [
    {
     "ename": "SyntaxError",
     "evalue": "invalid syntax (<ipython-input-3-ce14833e8b3a>, line 1)",
     "output_type": "error",
     "traceback": [
      "\u001b[0;36m  File \u001b[0;32m\"<ipython-input-3-ce14833e8b3a>\"\u001b[0;36m, line \u001b[0;32m1\u001b[0m\n\u001b[0;31m    jemdoc index\u001b[0m\n\u001b[0m               ^\u001b[0m\n\u001b[0;31mSyntaxError\u001b[0m\u001b[0;31m:\u001b[0m invalid syntax\n"
     ]
    }
   ],
   "source": [
    "jemdoc index"
   ]
  },
  {
   "cell_type": "code",
   "execution_count": 3,
   "metadata": {},
   "outputs": [
    {
     "ename": "SyntaxError",
     "evalue": "Missing parentheses in call to 'print'. Did you mean print(t __doc__)? (jemdoc.py, line 34)",
     "output_type": "error",
     "traceback": [
      "\u001b[0;36m  File \u001b[0;32m\"/Users/koo/AnacondaProjects/Archive/jemdoc.py\"\u001b[0;36m, line \u001b[0;32m34\u001b[0m\n\u001b[0;31m    print __doc__\u001b[0m\n\u001b[0m                ^\u001b[0m\n\u001b[0;31mSyntaxError\u001b[0m\u001b[0;31m:\u001b[0m Missing parentheses in call to 'print'. Did you mean print(t __doc__)?\n"
     ]
    }
   ],
   "source": [
    "%run jemdoc.py index.jemdoc"
   ]
  },
  {
   "cell_type": "code",
   "execution_count": 4,
   "metadata": {},
   "outputs": [
    {
     "ename": "SyntaxError",
     "evalue": "Missing parentheses in call to 'print'. Did you mean print(t __doc__)? (jemdoc.py, line 34)",
     "output_type": "error",
     "traceback": [
      "\u001b[0;36m  File \u001b[0;32m\"/Users/koo/AnacondaProjects/Archive/jemdoc.py\"\u001b[0;36m, line \u001b[0;32m34\u001b[0m\n\u001b[0;31m    print __doc__\u001b[0m\n\u001b[0m                ^\u001b[0m\n\u001b[0;31mSyntaxError\u001b[0m\u001b[0;31m:\u001b[0m Missing parentheses in call to 'print'. Did you mean print(t __doc__)?\n"
     ]
    }
   ],
   "source": [
    "%run jemdoc.py research.jemdoc"
   ]
  },
  {
   "cell_type": "code",
   "execution_count": 5,
   "metadata": {},
   "outputs": [
    {
     "ename": "SyntaxError",
     "evalue": "Missing parentheses in call to 'print'. Did you mean print(t __doc__)? (jemdoc.py, line 34)",
     "output_type": "error",
     "traceback": [
      "\u001b[0;36m  File \u001b[0;32m\"/Users/koo/AnacondaProjects/Archive/jemdoc.py\"\u001b[0;36m, line \u001b[0;32m34\u001b[0m\n\u001b[0;31m    print __doc__\u001b[0m\n\u001b[0m                ^\u001b[0m\n\u001b[0;31mSyntaxError\u001b[0m\u001b[0;31m:\u001b[0m Missing parentheses in call to 'print'. Did you mean print(t __doc__)?\n"
     ]
    }
   ],
   "source": [
    "%run jemdoc.py teaching.jemdoc"
   ]
  },
  {
   "cell_type": "code",
   "execution_count": 6,
   "metadata": {},
   "outputs": [
    {
     "ename": "SyntaxError",
     "evalue": "Missing parentheses in call to 'print'. Did you mean print(t __doc__)? (jemdoc.py, line 34)",
     "output_type": "error",
     "traceback": [
      "\u001b[0;36m  File \u001b[0;32m\"/Users/koo/AnacondaProjects/Archive/jemdoc.py\"\u001b[0;36m, line \u001b[0;32m34\u001b[0m\n\u001b[0;31m    print __doc__\u001b[0m\n\u001b[0m                ^\u001b[0m\n\u001b[0;31mSyntaxError\u001b[0m\u001b[0;31m:\u001b[0m Missing parentheses in call to 'print'. Did you mean print(t __doc__)?\n"
     ]
    }
   ],
   "source": [
    "%run jemdoc.py index.jemdoc"
   ]
  },
  {
   "cell_type": "code",
   "execution_count": 3,
   "metadata": {},
   "outputs": [
    {
     "ename": "SyntaxError",
     "evalue": "Missing parentheses in call to 'print'. Did you mean print(t __doc__)? (jemdoc.py, line 34)",
     "output_type": "error",
     "traceback": [
      "\u001b[0;36m  File \u001b[0;32m\"/Users/koo/AnacondaProjects/Archive/jemdoc.py\"\u001b[0;36m, line \u001b[0;32m34\u001b[0m\n\u001b[0;31m    print __doc__\u001b[0m\n\u001b[0m                ^\u001b[0m\n\u001b[0;31mSyntaxError\u001b[0m\u001b[0;31m:\u001b[0m Missing parentheses in call to 'print'. Did you mean print(t __doc__)?\n"
     ]
    }
   ],
   "source": [
    "%run jemdoc.py index.jemdoc"
   ]
  },
  {
   "cell_type": "code",
   "execution_count": 1,
   "metadata": {},
   "outputs": [
    {
     "ename": "SyntaxError",
     "evalue": "Missing parentheses in call to 'print'. Did you mean print(t __doc__)? (jemdoc.py, line 34)",
     "output_type": "error",
     "traceback": [
      "\u001b[0;36m  File \u001b[0;32m\"/Users/koo/AnacondaProjects/Archive/jemdoc.py\"\u001b[0;36m, line \u001b[0;32m34\u001b[0m\n\u001b[0;31m    print __doc__\u001b[0m\n\u001b[0m                ^\u001b[0m\n\u001b[0;31mSyntaxError\u001b[0m\u001b[0;31m:\u001b[0m Missing parentheses in call to 'print'. Did you mean print(t __doc__)?\n"
     ]
    }
   ],
   "source": [
    "%run jemdoc.py index.jemdoc"
   ]
  },
  {
   "cell_type": "code",
   "execution_count": 2,
   "metadata": {},
   "outputs": [
    {
     "ename": "SyntaxError",
     "evalue": "Missing parentheses in call to 'print'. Did you mean print(t __doc__)? (jemdoc.py, line 34)",
     "output_type": "error",
     "traceback": [
      "\u001b[0;36m  File \u001b[0;32m\"/Users/koo/AnacondaProjects/Archive/jemdoc.py\"\u001b[0;36m, line \u001b[0;32m34\u001b[0m\n\u001b[0;31m    print __doc__\u001b[0m\n\u001b[0m                ^\u001b[0m\n\u001b[0;31mSyntaxError\u001b[0m\u001b[0;31m:\u001b[0m Missing parentheses in call to 'print'. Did you mean print(t __doc__)?\n"
     ]
    }
   ],
   "source": [
    "%run jemdoc.py index.jemdoc\n"
   ]
  },
  {
   "cell_type": "code",
   "execution_count": null,
   "metadata": {},
   "outputs": [],
   "source": []
  }
 ],
 "metadata": {
  "anaconda-cloud": {},
  "kernelspec": {
   "display_name": "Python 3",
   "language": "python",
   "name": "python3"
  },
  "language_info": {
   "codemirror_mode": {
    "name": "ipython",
    "version": 3
   },
   "file_extension": ".py",
   "mimetype": "text/x-python",
   "name": "python",
   "nbconvert_exporter": "python",
   "pygments_lexer": "ipython3",
   "version": "3.6.3"
  }
 },
 "nbformat": 4,
 "nbformat_minor": 1
}
